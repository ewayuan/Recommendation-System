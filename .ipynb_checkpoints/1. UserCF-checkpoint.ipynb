{
 "cells": [
  {
   "cell_type": "markdown",
   "id": "c7b84bb4",
   "metadata": {},
   "source": [
    "# 1. 计算用户相似度"
   ]
  },
  {
   "cell_type": "code",
   "execution_count": 1,
   "id": "6d6a42a4",
   "metadata": {},
   "outputs": [],
   "source": [
    "import math\n",
    "\n",
    "def UserSimilarity(train):\n",
    "    # train: Dictionary of Users, s.t {A:[a,b,d], B: [a,c], ...}\n",
    "    W = dict()\n",
    "    for u in train.keys():\n",
    "        W[u] = dict()\n",
    "        for v in train.keys():\n",
    "            if u == v:\n",
    "                continue\n",
    "            W[u][v] = len(set(train[u]) & set(train[v]))\n",
    "            W[u][v] /= math.sqrt(len(train[u]) * len(train[v]) * 1.0)\n",
    "    return W\n",
    "        "
   ]
  },
  {
   "cell_type": "code",
   "execution_count": 2,
   "id": "7a984c43",
   "metadata": {},
   "outputs": [],
   "source": [
    "train = {\"A\":[\"a\", \"b\", \"d\"],\n",
    "        \"B\":[\"a\", \"c\"],\n",
    "        \"C\":[\"b\", \"e\"],\n",
    "        \"D\":[\"c\", \"d\", \"e\"]}"
   ]
  },
  {
   "cell_type": "code",
   "execution_count": 3,
   "id": "d7af1a48",
   "metadata": {},
   "outputs": [
    {
     "data": {
      "text/plain": [
       "{'A': {'B': 0.4082482904638631,\n",
       "  'C': 0.4082482904638631,\n",
       "  'D': 0.3333333333333333},\n",
       " 'B': {'A': 0.4082482904638631, 'C': 0.0, 'D': 0.4082482904638631},\n",
       " 'C': {'A': 0.4082482904638631, 'B': 0.0, 'D': 0.4082482904638631},\n",
       " 'D': {'A': 0.3333333333333333,\n",
       "  'B': 0.4082482904638631,\n",
       "  'C': 0.4082482904638631}}"
      ]
     },
     "execution_count": 3,
     "metadata": {},
     "output_type": "execute_result"
    }
   ],
   "source": [
    "UserSimilarity(train)"
   ]
  },
  {
   "cell_type": "markdown",
   "id": "1eb90b1b",
   "metadata": {},
   "source": [
    "## 改进-1\n"
   ]
  },
  {
   "cell_type": "code",
   "execution_count": 4,
   "id": "6c4e3cf9",
   "metadata": {},
   "outputs": [],
   "source": [
    "from collections import defaultdict\n",
    "\n",
    "def UserSimilarity(train):\n",
    "    item_users = dict()\n",
    "    # 创建倒排表\n",
    "    for u, items in train.items():\n",
    "        for i in items:\n",
    "            if i not in item_users:\n",
    "                item_users[i] = set()\n",
    "            item_users[i].add(u)\n",
    "    print(\"item_users: \", item_users)\n",
    "    C = defaultdict(int)\n",
    "    N = defaultdict(int)\n",
    "    # 创建共现矩阵\n",
    "    for i, users in item_users.items():\n",
    "        for u in users:\n",
    "            N[u] += 1\n",
    "            if u not in C:\n",
    "                C[u] = defaultdict(int)\n",
    "            for v in users:\n",
    "                if u == v:\n",
    "                    continue\n",
    "                C[u][v] += 1\n",
    "    print(\"\\nco-occurrence matrix: \", C)\n",
    "    # Calcuate Cos-Similarity \n",
    "    W = dict()\n",
    "    for u, related_users in C.items():\n",
    "        W[u] = dict()\n",
    "        for v, cuv in related_users.items():\n",
    "            W[u][v] = cuv / math.sqrt(N[u] * N[v])\n",
    "    \n",
    "    return W"
   ]
  },
  {
   "cell_type": "code",
   "execution_count": 5,
   "id": "0f7d03e1",
   "metadata": {},
   "outputs": [
    {
     "name": "stdout",
     "output_type": "stream",
     "text": [
      "item_users:  {'a': {'A', 'B'}, 'b': {'C', 'A'}, 'd': {'D', 'A'}, 'c': {'D', 'B'}, 'e': {'D', 'C'}}\n",
      "\n",
      "co-occurrence matrix:  defaultdict(<class 'int'>, {'A': defaultdict(<class 'int'>, {'B': 1, 'C': 1, 'D': 1}), 'B': defaultdict(<class 'int'>, {'A': 1, 'D': 1}), 'C': defaultdict(<class 'int'>, {'A': 1, 'D': 1}), 'D': defaultdict(<class 'int'>, {'A': 1, 'B': 1, 'C': 1})})\n"
     ]
    },
    {
     "data": {
      "text/plain": [
       "{'A': {'B': 0.4082482904638631,\n",
       "  'C': 0.4082482904638631,\n",
       "  'D': 0.3333333333333333},\n",
       " 'B': {'A': 0.4082482904638631, 'D': 0.4082482904638631},\n",
       " 'C': {'A': 0.4082482904638631, 'D': 0.4082482904638631},\n",
       " 'D': {'A': 0.3333333333333333,\n",
       "  'B': 0.4082482904638631,\n",
       "  'C': 0.4082482904638631}}"
      ]
     },
     "execution_count": 5,
     "metadata": {},
     "output_type": "execute_result"
    }
   ],
   "source": [
    "UserSimilarity(train)"
   ]
  },
  {
   "cell_type": "markdown",
   "id": "6ba3cca2",
   "metadata": {},
   "source": [
    "# 改进-2: 对热门物品的处理 (IIF) "
   ]
  },
  {
   "cell_type": "code",
   "execution_count": 6,
   "id": "bbbb22fe",
   "metadata": {},
   "outputs": [],
   "source": [
    "from collections import defaultdict\n",
    "\n",
    "def UserSimilarity(train):\n",
    "    item_users = dict()\n",
    "    # 创建倒排表\n",
    "    for u, items in train.items():\n",
    "        for i in items:\n",
    "            if i not in item_users:\n",
    "                item_users[i] = set()\n",
    "            item_users[i].add(u)\n",
    "    print(\"item_users: \", item_users)\n",
    "    C = defaultdict(int)\n",
    "    N = defaultdict(int)\n",
    "    # 创建共现矩阵\n",
    "    for i, users in item_users.items():\n",
    "        for u in users:\n",
    "            N[u] += 1\n",
    "            if u not in C:\n",
    "                C[u] = defaultdict(int)\n",
    "            for v in users:\n",
    "                if u == v:\n",
    "                    continue\n",
    "                C[u][v] += 1 / math.log(1 + len(users))\n",
    "    print(\"\\nco-occurrence matrix: \", C)\n",
    "    # Calcuate Cos-Similarity \n",
    "    W = dict()\n",
    "    for u, related_users in C.items():\n",
    "        W[u] = dict()\n",
    "        for v, cuv in related_users.items():\n",
    "            W[u][v] = cuv / math.sqrt(N[u] * N[v])\n",
    "    \n",
    "    return W"
   ]
  },
  {
   "cell_type": "code",
   "execution_count": 7,
   "id": "f4373d3a",
   "metadata": {},
   "outputs": [
    {
     "name": "stdout",
     "output_type": "stream",
     "text": [
      "item_users:  {'a': {'A', 'B'}, 'b': {'C', 'A'}, 'd': {'D', 'A'}, 'c': {'D', 'B'}, 'e': {'D', 'C'}}\n",
      "\n",
      "co-occurrence matrix:  defaultdict(<class 'int'>, {'A': defaultdict(<class 'int'>, {'B': 0.9102392266268373, 'C': 0.9102392266268373, 'D': 0.9102392266268373}), 'B': defaultdict(<class 'int'>, {'A': 0.9102392266268373, 'D': 0.9102392266268373}), 'C': defaultdict(<class 'int'>, {'A': 0.9102392266268373, 'D': 0.9102392266268373}), 'D': defaultdict(<class 'int'>, {'A': 0.9102392266268373, 'B': 0.9102392266268373, 'C': 0.9102392266268373})})\n"
     ]
    },
    {
     "data": {
      "text/plain": [
       "{'A': {'B': 0.37160360818355515,\n",
       "  'C': 0.37160360818355515,\n",
       "  'D': 0.3034130755422791},\n",
       " 'B': {'A': 0.37160360818355515, 'D': 0.37160360818355515},\n",
       " 'C': {'A': 0.37160360818355515, 'D': 0.37160360818355515},\n",
       " 'D': {'A': 0.3034130755422791,\n",
       "  'B': 0.37160360818355515,\n",
       "  'C': 0.37160360818355515}}"
      ]
     },
     "execution_count": 7,
     "metadata": {},
     "output_type": "execute_result"
    }
   ],
   "source": [
    "UserSimilarity(train)"
   ]
  },
  {
   "cell_type": "markdown",
   "id": "c5deed44",
   "metadata": {},
   "source": [
    "# 2. 如何推荐物品给用户"
   ]
  },
  {
   "cell_type": "code",
   "execution_count": 8,
   "id": "c9f6108f",
   "metadata": {},
   "outputs": [],
   "source": [
    "def recommend(user, train, W, K):\n",
    "    rank = dict()\n",
    "    interacted_items = train[user]\n",
    "    for V, wuv in sorted(W[u].items, key = itemgetter(1), reverse=True)[0:K]:\n",
    "        for i, rvi in train[v].items:\n",
    "            if i in interacted_items:\n",
    "                continue\n",
    "            rank[i] += wuv * rvi\n",
    "    return rank"
   ]
  },
  {
   "cell_type": "code",
   "execution_count": null,
   "id": "979ce624",
   "metadata": {},
   "outputs": [],
   "source": []
  }
 ],
 "metadata": {
  "kernelspec": {
   "display_name": "Python 3",
   "language": "python",
   "name": "python3"
  },
  "language_info": {
   "codemirror_mode": {
    "name": "ipython",
    "version": 3
   },
   "file_extension": ".py",
   "mimetype": "text/x-python",
   "name": "python",
   "nbconvert_exporter": "python",
   "pygments_lexer": "ipython3",
   "version": "3.8.8"
  }
 },
 "nbformat": 4,
 "nbformat_minor": 5
}
