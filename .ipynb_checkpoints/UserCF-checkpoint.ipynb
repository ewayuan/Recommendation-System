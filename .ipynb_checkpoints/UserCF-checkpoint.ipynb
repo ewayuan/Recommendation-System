{
 "cells": [
  {
   "cell_type": "markdown",
   "id": "25ad6586",
   "metadata": {},
   "source": [
    "# 1.1 UserCF"
   ]
  },
  {
   "cell_type": "code",
   "execution_count": 1,
   "id": "264059ff",
   "metadata": {},
   "outputs": [],
   "source": [
    "import math\n",
    "\n",
    "def UserSimilarity(train):\n",
    "    # train: Dictionary of Users, s.t {A:[a,b,d], B: [a,c], ...}\n",
    "    W = dict()\n",
    "    for u in train.keys():\n",
    "        W[u] = dict()\n",
    "        for v in train.keys():\n",
    "            if u == v:\n",
    "                continue\n",
    "            W[u][v] = len(train[u] + train[v])\n",
    "            W[u][v] /= math.sqrt(len(train[u]) * len(train[v]) * 1.0)\n",
    "    return W\n",
    "        "
   ]
  },
  {
   "cell_type": "code",
   "execution_count": 2,
   "id": "1926c5eb",
   "metadata": {},
   "outputs": [],
   "source": [
    "train = {\"A\":[\"a\", \"b\", \"d\"],\n",
    "        \"B\":[\"a\", \"c\"],\n",
    "        \"C\":[\"b\", \"c\"],\n",
    "        \"D\":[\"c\", \"d\", \"e\"]}"
   ]
  },
  {
   "cell_type": "code",
   "execution_count": 3,
   "id": "3028012e",
   "metadata": {},
   "outputs": [
    {
     "data": {
      "text/plain": [
       "{'A': {'B': 2.041241452319315, 'C': 2.041241452319315, 'D': 2.0},\n",
       " 'B': {'A': 2.041241452319315, 'C': 2.0, 'D': 2.041241452319315},\n",
       " 'C': {'A': 2.041241452319315, 'B': 2.0, 'D': 2.041241452319315},\n",
       " 'D': {'A': 2.0, 'B': 2.041241452319315, 'C': 2.041241452319315}}"
      ]
     },
     "execution_count": 3,
     "metadata": {},
     "output_type": "execute_result"
    }
   ],
   "source": [
    "UserSimilarity(train)"
   ]
  },
  {
   "cell_type": "code",
   "execution_count": 16,
   "id": "1dbf36cd",
   "metadata": {},
   "outputs": [],
   "source": [
    "W = dict()\n",
    "W['A'] = 1"
   ]
  },
  {
   "cell_type": "code",
   "execution_count": 17,
   "id": "60e7bb0c",
   "metadata": {},
   "outputs": [
    {
     "data": {
      "text/plain": [
       "{'A': 1}"
      ]
     },
     "execution_count": 17,
     "metadata": {},
     "output_type": "execute_result"
    }
   ],
   "source": [
    "W"
   ]
  },
  {
   "cell_type": "code",
   "execution_count": null,
   "id": "0a6a7b4d",
   "metadata": {},
   "outputs": [],
   "source": []
  }
 ],
 "metadata": {
  "kernelspec": {
   "display_name": "Python 3",
   "language": "python",
   "name": "python3"
  },
  "language_info": {
   "codemirror_mode": {
    "name": "ipython",
    "version": 3
   },
   "file_extension": ".py",
   "mimetype": "text/x-python",
   "name": "python",
   "nbconvert_exporter": "python",
   "pygments_lexer": "ipython3",
   "version": "3.8.8"
  }
 },
 "nbformat": 4,
 "nbformat_minor": 5
}
