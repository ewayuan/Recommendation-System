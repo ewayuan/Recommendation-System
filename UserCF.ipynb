{
 "cells": [
  {
   "cell_type": "markdown",
   "id": "424cfbef",
   "metadata": {},
   "source": [
    "# 1.1 UserCF"
   ]
  },
  {
   "cell_type": "code",
   "execution_count": 83,
   "id": "7b3a7e95",
   "metadata": {},
   "outputs": [],
   "source": [
    "import math\n",
    "\n",
    "def UserSimilarity(train):\n",
    "    # train: Dictionary of Users, s.t {A:[a,b,d], B: [a,c], ...}\n",
    "    W = dict()\n",
    "    for u in train.keys():\n",
    "        W[u] = dict()\n",
    "        for v in train.keys():\n",
    "            if u == v:\n",
    "                continue\n",
    "            W[u][v] = len(set(train[u]) & set(train[v]))\n",
    "            W[u][v] /= math.sqrt(len(train[u]) * len(train[v]) * 1.0)\n",
    "    return W\n",
    "        "
   ]
  },
  {
   "cell_type": "code",
   "execution_count": 84,
   "id": "ce0b8ff8",
   "metadata": {},
   "outputs": [],
   "source": [
    "train = {\"A\":[\"a\", \"b\", \"d\"],\n",
    "        \"B\":[\"a\", \"c\"],\n",
    "        \"C\":[\"b\", \"e\"],\n",
    "        \"D\":[\"c\", \"d\", \"e\"]}"
   ]
  },
  {
   "cell_type": "code",
   "execution_count": 85,
   "id": "d2e13e13",
   "metadata": {},
   "outputs": [
    {
     "data": {
      "text/plain": [
       "{'A': {'B': 0.4082482904638631,\n",
       "  'C': 0.4082482904638631,\n",
       "  'D': 0.3333333333333333},\n",
       " 'B': {'A': 0.4082482904638631, 'C': 0.0, 'D': 0.4082482904638631},\n",
       " 'C': {'A': 0.4082482904638631, 'B': 0.0, 'D': 0.4082482904638631},\n",
       " 'D': {'A': 0.3333333333333333,\n",
       "  'B': 0.4082482904638631,\n",
       "  'C': 0.4082482904638631}}"
      ]
     },
     "execution_count": 85,
     "metadata": {},
     "output_type": "execute_result"
    }
   ],
   "source": [
    "UserSimilarity(train)"
   ]
  },
  {
   "cell_type": "markdown",
   "id": "01ca5205",
   "metadata": {},
   "source": [
    "## 改进版\n"
   ]
  },
  {
   "cell_type": "code",
   "execution_count": 90,
   "id": "c403952d",
   "metadata": {},
   "outputs": [],
   "source": [
    "from collections import defaultdict\n",
    "\n",
    "def UserSimilarity(train):\n",
    "    item_users = dict()\n",
    "    # 创建倒排表\n",
    "    for u, items in train.items():\n",
    "        for i in items:\n",
    "            if i not in item_users:\n",
    "                item_users[i] = set()\n",
    "            item_users[i].add(u)\n",
    "    print(\"item_users: \", item_users)\n",
    "    C = defaultdict(int)\n",
    "    N = defaultdict(int)\n",
    "    # 创建共现矩阵\n",
    "    for i, users in item_users.items():\n",
    "        for u in users:\n",
    "            N[u] += 1\n",
    "            if u not in C:\n",
    "                C[u] = defaultdict(int)\n",
    "            for v in users:\n",
    "                if u == v:\n",
    "                    continue\n",
    "                C[u][v] += 1\n",
    "    print(\"\\nco-occurrence matrix: \", C)\n",
    "    # Calcuate Cos-Similarity \n",
    "    W = dict()\n",
    "    for u, related_users in C.items():\n",
    "        W[u] = dict()\n",
    "        for v, cuv in related_users.items():\n",
    "            W[u][v] = cuv / math.sqrt(N[u] * N[v])\n",
    "    \n",
    "    return W"
   ]
  },
  {
   "cell_type": "code",
   "execution_count": 91,
   "id": "b6015c10",
   "metadata": {},
   "outputs": [
    {
     "name": "stdout",
     "output_type": "stream",
     "text": [
      "item_users:  {'a': {'B', 'A'}, 'b': {'C', 'A'}, 'd': {'A', 'D'}, 'c': {'B', 'D'}, 'e': {'C', 'D'}}\n",
      "\n",
      "co-occurrence matrix:  defaultdict(<class 'int'>, {'B': defaultdict(<class 'int'>, {'A': 1, 'D': 1}), 'A': defaultdict(<class 'int'>, {'B': 1, 'C': 1, 'D': 1}), 'C': defaultdict(<class 'int'>, {'A': 1, 'D': 1}), 'D': defaultdict(<class 'int'>, {'A': 1, 'B': 1, 'C': 1})})\n"
     ]
    },
    {
     "data": {
      "text/plain": [
       "{'B': {'A': 0.4082482904638631, 'D': 0.4082482904638631},\n",
       " 'A': {'B': 0.4082482904638631,\n",
       "  'C': 0.4082482904638631,\n",
       "  'D': 0.3333333333333333},\n",
       " 'C': {'A': 0.4082482904638631, 'D': 0.4082482904638631},\n",
       " 'D': {'A': 0.3333333333333333,\n",
       "  'B': 0.4082482904638631,\n",
       "  'C': 0.4082482904638631}}"
      ]
     },
     "execution_count": 91,
     "metadata": {},
     "output_type": "execute_result"
    }
   ],
   "source": [
    "UserSimilarity(train)"
   ]
  },
  {
   "cell_type": "code",
   "execution_count": null,
   "id": "cb2adde5",
   "metadata": {},
   "outputs": [],
   "source": []
  }
 ],
 "metadata": {
  "kernelspec": {
   "display_name": "Python 3",
   "language": "python",
   "name": "python3"
  },
  "language_info": {
   "codemirror_mode": {
    "name": "ipython",
    "version": 3
   },
   "file_extension": ".py",
   "mimetype": "text/x-python",
   "name": "python",
   "nbconvert_exporter": "python",
   "pygments_lexer": "ipython3",
   "version": "3.8.8"
  }
 },
 "nbformat": 4,
 "nbformat_minor": 5
}
