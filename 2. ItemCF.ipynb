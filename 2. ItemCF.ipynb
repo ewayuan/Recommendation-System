{
 "cells": [
  {
   "cell_type": "markdown",
   "id": "4fc2e1aa",
   "metadata": {},
   "source": [
    "# 1. 计算物品之间的相似度"
   ]
  },
  {
   "cell_type": "code",
   "execution_count": 1,
   "id": "cb0c02bc",
   "metadata": {},
   "outputs": [],
   "source": [
    "from collections import defaultdict\n",
    "import math\n",
    "\n",
    "def ItemSimilarity(train):\n",
    "    # calculate co-rated users between items\n",
    "    C = defaultdict(int)\n",
    "    N = defaultdict(int)\n",
    "    for u, items in train.items():\n",
    "        for i in items:\n",
    "            N[i] += 1\n",
    "            if i not in C:\n",
    "                C[i] = defaultdict(int)\n",
    "            for j in items:\n",
    "                if i == j:\n",
    "                    continue\n",
    "                C[i][j] += 1\n",
    "    print(C)\n",
    "    # calcuate final similarity matrix W\n",
    "    W = dict()\n",
    "    for i, related_items in C.items():\n",
    "        W[i] = dict()\n",
    "        for j, cij in related_items.items():\n",
    "            W[i][j] = cij / math.sqrt(N[i] * N[j])\n",
    "    return W"
   ]
  },
  {
   "cell_type": "code",
   "execution_count": 2,
   "id": "6fa7f8b2",
   "metadata": {},
   "outputs": [],
   "source": [
    "# Items: A, B, C, D\n",
    "# Users: a, b, c, d, e\n",
    "train = {\"A\":[\"a\", \"b\", \"d\"],\n",
    "        \"B\":[\"b\", \"c\", \"e\"],\n",
    "        \"C\":[\"c\", \"d\"],\n",
    "        \"D\":[\"b\", \"c\", \"d\"],\n",
    "        \"E\":[\"a\", \"d\"]}"
   ]
  },
  {
   "cell_type": "code",
   "execution_count": 3,
   "id": "b53d8009",
   "metadata": {},
   "outputs": [
    {
     "name": "stdout",
     "output_type": "stream",
     "text": [
      "defaultdict(<class 'int'>, {'a': defaultdict(<class 'int'>, {'b': 1, 'd': 2}), 'b': defaultdict(<class 'int'>, {'a': 1, 'd': 2, 'c': 2, 'e': 1}), 'd': defaultdict(<class 'int'>, {'a': 2, 'b': 2, 'c': 2}), 'c': defaultdict(<class 'int'>, {'b': 2, 'e': 1, 'd': 2}), 'e': defaultdict(<class 'int'>, {'b': 1, 'c': 1})})\n"
     ]
    },
    {
     "data": {
      "text/plain": [
       "{'a': {'b': 0.4082482904638631, 'd': 0.7071067811865475},\n",
       " 'b': {'a': 0.4082482904638631,\n",
       "  'd': 0.5773502691896258,\n",
       "  'c': 0.6666666666666666,\n",
       "  'e': 0.5773502691896258},\n",
       " 'd': {'a': 0.7071067811865475,\n",
       "  'b': 0.5773502691896258,\n",
       "  'c': 0.5773502691896258},\n",
       " 'c': {'b': 0.6666666666666666,\n",
       "  'e': 0.5773502691896258,\n",
       "  'd': 0.5773502691896258},\n",
       " 'e': {'b': 0.5773502691896258, 'c': 0.5773502691896258}}"
      ]
     },
     "execution_count": 3,
     "metadata": {},
     "output_type": "execute_result"
    }
   ],
   "source": [
    "ItemSimilarity(train)"
   ]
  },
  {
   "cell_type": "markdown",
   "id": "2de32472",
   "metadata": {},
   "source": [
    "# 1.1 ItemCF + IUF"
   ]
  },
  {
   "cell_type": "code",
   "execution_count": 4,
   "id": "c57c9068",
   "metadata": {},
   "outputs": [],
   "source": [
    "from collections import defaultdict\n",
    "import math\n",
    "\n",
    "def ItemSimilarity(train):\n",
    "    # calculate co-rated users between items\n",
    "    C = defaultdict(int)\n",
    "    N = defaultdict(int)\n",
    "    for u, items in train.items():\n",
    "        for i in items:\n",
    "            N[i] += 1\n",
    "            if i not in C:\n",
    "                C[i] = defaultdict(int)\n",
    "            for j in items:\n",
    "                if i == j:\n",
    "                    continue\n",
    "                C[i][j] += 1 / math.log(1 + len(items) * 1.0)\n",
    "    print(C)\n",
    "    # calcuate final similarity matrix W\n",
    "    W = dict()\n",
    "    for i, related_items in C.items():\n",
    "        W[i] = dict()\n",
    "        for j, cij in related_items.items():\n",
    "            W[i][j] = cij / math.sqrt(N[i] * N[j])\n",
    "    return W"
   ]
  },
  {
   "cell_type": "code",
   "execution_count": 5,
   "id": "323d2b03",
   "metadata": {},
   "outputs": [
    {
     "name": "stdout",
     "output_type": "stream",
     "text": [
      "defaultdict(<class 'int'>, {'a': defaultdict(<class 'int'>, {'b': 0.7213475204444817, 'd': 1.631586747071319}), 'b': defaultdict(<class 'int'>, {'a': 0.7213475204444817, 'd': 1.4426950408889634, 'c': 1.4426950408889634, 'e': 0.7213475204444817}), 'd': defaultdict(<class 'int'>, {'a': 1.631586747071319, 'b': 1.4426950408889634, 'c': 1.631586747071319}), 'c': defaultdict(<class 'int'>, {'b': 1.4426950408889634, 'e': 0.7213475204444817, 'd': 1.631586747071319}), 'e': defaultdict(<class 'int'>, {'b': 0.7213475204444817, 'c': 0.7213475204444817})})\n"
     ]
    },
    {
     "data": {
      "text/plain": [
       "{'a': {'b': 0.2944888920518062, 'd': 0.576853026474115},\n",
       " 'b': {'a': 0.2944888920518062,\n",
       "  'd': 0.4164701851078906,\n",
       "  'c': 0.4808983469629878,\n",
       "  'e': 0.4164701851078906},\n",
       " 'd': {'a': 0.576853026474115,\n",
       "  'b': 0.4164701851078906,\n",
       "  'c': 0.470998523813926},\n",
       " 'c': {'b': 0.4808983469629878,\n",
       "  'e': 0.4164701851078906,\n",
       "  'd': 0.470998523813926},\n",
       " 'e': {'b': 0.4164701851078906, 'c': 0.4164701851078906}}"
      ]
     },
     "execution_count": 5,
     "metadata": {},
     "output_type": "execute_result"
    }
   ],
   "source": [
    "ItemSimilarity(train)"
   ]
  },
  {
   "cell_type": "markdown",
   "id": "5bf2679d",
   "metadata": {},
   "source": [
    "# 2. 将用户历史行为物品中的相似产品进行推荐列表"
   ]
  },
  {
   "cell_type": "code",
   "execution_count": 6,
   "id": "0ca3491b",
   "metadata": {},
   "outputs": [],
   "source": [
    "def recommend(train, user_id, W, K):\n",
    "    rank = dict()\n",
    "    ru = train[user_id]\n",
    "    for i, pi in ru.items:\n",
    "        for j, wij in sorted(W[i].items, key = itemgetter(1), reverse=True)[0:K]:\n",
    "            if j in ru:\n",
    "                continue\n",
    "            rank[j] += pi * wij\n",
    "    return rank"
   ]
  },
  {
   "cell_type": "code",
   "execution_count": null,
   "id": "3f5bb6f1",
   "metadata": {},
   "outputs": [],
   "source": []
  },
  {
   "cell_type": "markdown",
   "id": "798d5cd3",
   "metadata": {},
   "source": [
    "# 3. CF算法比较"
   ]
  },
  {
   "cell_type": "markdown",
   "id": "037cda1d",
   "metadata": {},
   "source": [
    "|              | **UserCF**                                                   | **ItemCF**                                                   |\n",
    "| ------------ | :----------------------------------------------------------- | ------------------------------------------------------------ |\n",
    "| **性能**     | **适用于用户较少的场合**，如果用户很多，计算用户相似度矩阵代价很大 | **适用于物品数明显小于用户数的场合**，如果物品很多(eg: 网页)， 计算物品相似度矩阵代价很大 |\n",
    "| **领域**     | 时效性较强，**用户个性化兴趣不太明显的领域** （UserCF适用于新闻推荐） | 长尾物品丰富，**用户个性化需求强烈的领域**                   |\n",
    "| **实时性**   | 用户有新行为，**不一定造成推荐结果的立即变化**               | 用户有新行为，**一定会导致推荐结果的实时变化**               |\n",
    "| **冷启动**   | 1. 在新用户对很少的物品产生行为后，不能立即对他进行个性化推荐，因为用户相似度表是每隔一段时间离线计算的<br /><br /> 2. 新物品 上线后一段时间，一旦有用户对产品产生行为，就可以将新物品推荐给和它产生行为的用户兴趣相似的其他用户 | 1. 新用户只要对一个物品产生行为，就可以给他推荐和该物品相关的其他物品<br /><br />2. 但没有办法在不离线更新物品相似度表的情况下将新物品推荐给用户 |\n",
    "| **推荐理由** | 很难提供令用户信服的推荐解释                                 | 利用用户的历史行为给用户做推荐解释，可以令用户比较信服       |\n",
    "\n",
    "\n"
   ]
  },
  {
   "cell_type": "code",
   "execution_count": null,
   "id": "ee7798c2",
   "metadata": {},
   "outputs": [],
   "source": []
  }
 ],
 "metadata": {
  "kernelspec": {
   "display_name": "Python 3",
   "language": "python",
   "name": "python3"
  },
  "language_info": {
   "codemirror_mode": {
    "name": "ipython",
    "version": 3
   },
   "file_extension": ".py",
   "mimetype": "text/x-python",
   "name": "python",
   "nbconvert_exporter": "python",
   "pygments_lexer": "ipython3",
   "version": "3.8.8"
  }
 },
 "nbformat": 4,
 "nbformat_minor": 5
}
